{
  "cells": [
    {
      "cell_type": "markdown",
      "metadata": {
        "id": "t0TAYVmGpkW-"
      },
      "source": [
        "#### Install yfinance"
      ]
    },
    {
      "cell_type": "code",
      "execution_count": 13,
      "metadata": {
        "id": "sxni-MFDpip3",
        "colab": {
          "base_uri": "https://localhost:8080/"
        },
        "outputId": "950153e0-635a-4f41-b9a5-ac89e1e77b67"
      },
      "outputs": [
        {
          "output_type": "stream",
          "name": "stdout",
          "text": [
            "Requirement already satisfied: yfinance in /usr/local/lib/python3.7/dist-packages (0.1.70)\n",
            "Requirement already satisfied: numpy>=1.15 in /usr/local/lib/python3.7/dist-packages (from yfinance) (1.21.5)\n",
            "Requirement already satisfied: pandas>=0.24.0 in /usr/local/lib/python3.7/dist-packages (from yfinance) (1.3.5)\n",
            "Requirement already satisfied: requests>=2.26 in /usr/local/lib/python3.7/dist-packages (from yfinance) (2.27.1)\n",
            "Requirement already satisfied: lxml>=4.5.1 in /usr/local/lib/python3.7/dist-packages (from yfinance) (4.8.0)\n",
            "Requirement already satisfied: multitasking>=0.0.7 in /usr/local/lib/python3.7/dist-packages (from yfinance) (0.0.10)\n",
            "Requirement already satisfied: pytz>=2017.3 in /usr/local/lib/python3.7/dist-packages (from pandas>=0.24.0->yfinance) (2018.9)\n",
            "Requirement already satisfied: python-dateutil>=2.7.3 in /usr/local/lib/python3.7/dist-packages (from pandas>=0.24.0->yfinance) (2.8.2)\n",
            "Requirement already satisfied: six>=1.5 in /usr/local/lib/python3.7/dist-packages (from python-dateutil>=2.7.3->pandas>=0.24.0->yfinance) (1.15.0)\n",
            "Requirement already satisfied: idna<4,>=2.5 in /usr/local/lib/python3.7/dist-packages (from requests>=2.26->yfinance) (2.10)\n",
            "Requirement already satisfied: charset-normalizer~=2.0.0 in /usr/local/lib/python3.7/dist-packages (from requests>=2.26->yfinance) (2.0.12)\n",
            "Requirement already satisfied: urllib3<1.27,>=1.21.1 in /usr/local/lib/python3.7/dist-packages (from requests>=2.26->yfinance) (1.24.3)\n",
            "Requirement already satisfied: certifi>=2017.4.17 in /usr/local/lib/python3.7/dist-packages (from requests>=2.26->yfinance) (2021.10.8)\n"
          ]
        }
      ],
      "source": [
        "!pip install yfinance\n",
        "\n",
        "import matplotlib.pyplot as plt"
      ]
    },
    {
      "cell_type": "markdown",
      "metadata": {
        "id": "9rCPxAQ_ppMA"
      },
      "source": [
        "# Forecasting Stocks from Yahoo Finance with Prophet"
      ]
    },
    {
      "cell_type": "code",
      "execution_count": 14,
      "metadata": {
        "id": "22ISeYR-pVNF"
      },
      "outputs": [],
      "source": [
        "import yfinance as yf\n",
        "\n",
        "# berkshire hathaway inc. (b stock)\n",
        "ltc = yf.Ticker('LTC-USD')\n",
        "\n",
        "hist = ltc.history(period=\"max\", auto_adjust=True)"
      ]
    },
    {
      "cell_type": "code",
      "execution_count": 15,
      "metadata": {
        "colab": {
          "base_uri": "https://localhost:8080/"
        },
        "id": "Ie5vxU0PzBqE",
        "outputId": "f1d1ae8e-b174-49bd-a40a-a5b42498636c"
      },
      "outputs": [
        {
          "output_type": "stream",
          "name": "stdout",
          "text": [
            "no of records: 2751\n"
          ]
        }
      ],
      "source": [
        "import pandas as pd\n",
        "\n",
        "df = pd.DataFrame()\n",
        "\n",
        "df2 = pd.DataFrame(columns = ['Date','low'])\n",
        "\n",
        "\n",
        "df['ds'] = hist.index\n",
        "df['y'] = hist['Close'].values\n",
        "df['test'] = 55\n",
        "df['bottom']=1\n",
        "\n",
        "lowest = 9990\n",
        "goback = 180\n",
        "\n",
        "nrecords = len(df)\n",
        "print ( \"no of records: \" + str(nrecords) )\n",
        "\n",
        "\n",
        "lowestarray=[]\n",
        "lowestarray = [0 for i in range(nrecords)] \n",
        "\n",
        "for x in range(goback, nrecords, goback):\n",
        "    lowest = 9999\n",
        "    for y in range(x - goback, x):\n",
        "      if ( y > goback ): \n",
        "  #      print ( df['y'][y] )\n",
        "        testlow = df['y'][y]\n",
        "        testlow = int ( testlow )\n",
        "        if ( testlow < lowest ):\n",
        "            lowest = testlow\n",
        "        if ( x > 0 and x < nrecords):\n",
        "          lowestarray[x] = lowest\n",
        "          new_row = {'Date':'Geo', 'low':87 }\n",
        "          df2 = df2.append(new_row, ignore_index=True)\n",
        "          \n",
        "\n",
        " \n",
        "lowestarray2 = lowestarray[12::]\n"
      ]
    },
    {
      "cell_type": "code",
      "source": [
        "import matplotlib.pyplot as plt\n",
        "plt.plot(lowestarray2)\n",
        "plt.ylabel('price')\n",
        "plt.title(\"Litecoin bottom price trend\")\n",
        "plt.show()"
      ],
      "metadata": {
        "colab": {
          "base_uri": "https://localhost:8080/",
          "height": 281
        },
        "id": "RbhcvAZze9oJ",
        "outputId": "3023dcca-b1c6-4db6-9adc-d0fe62dfc36d"
      },
      "execution_count": 16,
      "outputs": [
        {
          "output_type": "display_data",
          "data": {
            "text/plain": [
              "<Figure size 432x288 with 1 Axes>"
            ],
            "image/png": "[encoded data removed]"
          },
          "metadata": {
            "needs_background": "light"
          }
        }
      ]
    }
  ],
  "metadata": {
    "colab": {
      "collapsed_sections": [],
      "name": "Litecoin-bottom2.ipynb",
      "provenance": []
    },
    "kernelspec": {
      "display_name": "Python 3",
      "name": "python3"
    }
  },
  "nbformat": 4,
  "nbformat_minor": 0
}